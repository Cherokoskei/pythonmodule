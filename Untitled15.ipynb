{
 "cells": [
  {
   "cell_type": "code",
   "execution_count": null,
   "id": "13c7a4f7-aac9-405c-8c0a-eb96811e5227",
   "metadata": {},
   "outputs": [],
   "source": [
    "dictionary={\n",
    "    \"help\": \"how may i help you today\"\n",
    "}\n",
    "\n",
    "def get_the_dictionary (user_input)"
   ]
  },
  {
   "cell_type": "code",
   "execution_count": 2,
   "id": "ba555b6c-4d01-44e0-88ee-064c198f4aae",
   "metadata": {},
   "outputs": [
    {
     "ename": "SyntaxError",
     "evalue": "invalid syntax (805777292.py, line 22)",
     "output_type": "error",
     "traceback": [
      "\u001b[0;36m  Cell \u001b[0;32mIn[2], line 22\u001b[0;36m\u001b[0m\n\u001b[0;31m    if keyword, response in crypto_db.item():\u001b[0m\n\u001b[0m              ^\u001b[0m\n\u001b[0;31mSyntaxError\u001b[0m\u001b[0;31m:\u001b[0m invalid syntax\n"
     ]
    }
   ],
   "source": [
    "crypto_db = {  \n",
    "    \"Bitcoin\": {  \n",
    "        \"price_trend\": \"rising\",  \n",
    "        \"market_cap\": \"high\",  \n",
    "        \"energy_use\": \"high\",  \n",
    "        \"sustainability_score\": 3/10  \n",
    "    },  \n",
    "    \"Ethereum\": {  \n",
    "        \"price_trend\": \"stable\",  \n",
    "        \"market_cap\": \"high\",  \n",
    "        \"energy_use\": \"medium\",  \n",
    "        \"sustainability_score\": 6/10  \n",
    "    },  \n",
    "    \"Cardano\": {  \n",
    "        \"price_trend\": \"rising\",  \n",
    "        \"market_cap\": \"medium\",  \n",
    "        \"energy_use\": \"low\",  \n",
    "        \"sustainability_score\": 8/10  \n",
    "    }  \n",
    "}  \n",
    "def get_bot_response(user_input):\n",
    "    if keyword, response in crypto_db.item():\n",
    "       print(response)\n",
    "    else return (\"network error\")\n",
    "    "
   ]
  },
  {
   "cell_type": "code",
   "execution_count": 6,
   "id": "da4b3d35-3c54-4327-bd3e-f0f1a918bb62",
   "metadata": {},
   "outputs": [],
   "source": [
    "responses  = {  \n",
    "    \"bitcoin\": {  \n",
    "        \"price_trend\": \"rising\",  \n",
    "        \"market_cap\": \"high\",  \n",
    "        \"energy_use\": \"high\",  \n",
    "        \"sustainability_score\": 3/10  \n",
    "    },  \n",
    "    \"Ethereum\": {  \n",
    "        \"price_trend\": \"stable\",  \n",
    "        \"market_cap\": \"high\",  \n",
    "        \"energy_use\": \"medium\",  \n",
    "        \"sustainability_score\": 6/10  \n",
    "    },  \n",
    "    \"Cardano\": {  \n",
    "        \"price_trend\": \"rising\",  \n",
    "        \"market_cap\": \"medium\",  \n",
    "        \"energy_use\": \"low\",  \n",
    "        \"sustainability_score\": 8/10  \n",
    "    }  \n",
    "}  \n",
    "\n",
    "def get_bot_response(user_input):\n",
    "      if \"sustainable\" in user_input:\n",
    "          recommend = max(crypto_db, key=lambda x: crypto_db[x][\"sustainability_score\"])\n",
    "          print(f\"Invest in {recommend}! 🌱 It’s eco-friendly and has long-term potential!\")\n",
    "\n",
    "while True:\n",
    "      user_input = input(\"You: \")\n",
    "      if user_input.lower() in [\"quit\", \"exit\", \"bye\"]:\n",
    "          print(\"Bot: Goodbye! If you have any more questions, we're here to help.\")\n",
    "          break\n",
    "\n",
    "      response = get_bot_response(user_input)\n",
    "      print(f\"Bot: {response}\")"
   ]
  },
  {
   "cell_type": "code",
   "execution_count": null,
   "id": "5b2be6c4-c8e6-41b4-9cb0-a2dbf58ab8d6",
   "metadata": {},
   "outputs": [
    {
     "name": "stdin",
     "output_type": "stream",
     "text": [
      "You:  price trend\n"
     ]
    },
    {
     "name": "stdout",
     "output_type": "stream",
     "text": [
      "cryptobuddy: Invest in Ethereum! 🌱 It’s eco-friendly and has long-term potential\n"
     ]
    },
    {
     "name": "stdin",
     "output_type": "stream",
     "text": [
      "You:  market cap\n"
     ]
    },
    {
     "name": "stdout",
     "output_type": "stream",
     "text": [
      "cryptobuddy: Invest in Cardano! 🌱 It’s eco-friendly and has long-term potential\n"
     ]
    },
    {
     "name": "stdin",
     "output_type": "stream",
     "text": [
      "You:  energy use\n"
     ]
    },
    {
     "name": "stdout",
     "output_type": "stream",
     "text": [
      "cryptobuddy: Invest in Ethereum! 🌱 It’s eco-friendly and has long-term potential!\n"
     ]
    },
    {
     "name": "stdin",
     "output_type": "stream",
     "text": [
      "You:  sustainable\n"
     ]
    },
    {
     "name": "stdout",
     "output_type": "stream",
     "text": [
      "cryptobuddy: Invest in Cardano! 🌱 It’s eco-friendly and has long-term potential!\n"
     ]
    }
   ],
   "source": [
    "responses = {  \n",
    "    \"bitcoin\": {  \n",
    "        \"price_trend\": \"rising\",  \n",
    "        \"market_cap\": \"high\",  \n",
    "        \"energy_use\": \"high\",  \n",
    "        \"sustainability_score\": 3/10  \n",
    "    },  \n",
    "    \"Ethereum\": {  \n",
    "        \"price_trend\": \"stable\",  \n",
    "        \"market_cap\": \"high\",  \n",
    "        \"energy_use\": \"medium\",  \n",
    "        \"sustainability_score\": 6/10  \n",
    "    },  \n",
    "    \"Cardano\": {  \n",
    "        \"price_trend\": \"rising\",  \n",
    "        \"market_cap\": \"medium\",  \n",
    "        \"energy_use\": \"low\",  \n",
    "        \"sustainability_score\": 8/10  \n",
    "    }  \n",
    "}  \n",
    "\n",
    "def get_bot_response(user_input):\n",
    "    if \"sustainable\" in user_input.lower():\n",
    "        recommend = max(responses, key=lambda x: responses[x][\"sustainability_score\"])\n",
    "        return f\"Invest in {recommend.capitalize()}! 🌱 It’s eco-friendly and has long-term potential!\"\n",
    "        \n",
    "    elif \"energy use\" in user_input.lower():\n",
    "        recommend = max(responses, key=lambda x: responses[x][\"energy_use\"])\n",
    "        return f\"Invest in {recommend.capitalize()}! 🌱 It’s eco-friendly and has long-term potential!\"\n",
    "        \n",
    "    elif \"market cap\" in user_input.lower():\n",
    "        recommend = max(responses, key=lambda x: responses[x][\"market_cap\"])\n",
    "        return f\"Invest in {recommend.capitalize()}! 🌱 It’s eco-friendly and has long-term potential\"#\n",
    "        \n",
    "    elif \"price trend\" in user_input.lower():\n",
    "        recommend = max(responses, key=lambda x: responses[x][\"price_trend\"])\n",
    "        return f\"Invest in {recommend.capitalize()}! 🌱 It’s eco-friendly and has long-term potential\"\n",
    "    else:\n",
    "        return \"I can help with sustainability info. Try asking which cryptocurrency is most sustainable.\"\n",
    "\n",
    "while True:\n",
    "    user_input = input(\"You: \")\n",
    "    if user_input.lower() in [\"quit\", \"exit\", \"bye\"]:\n",
    "        print(\"Bot: Goodbye! If you have any more questions, we're here to help.\")\n",
    "        break\n",
    "\n",
    "    response = get_bot_response(user_input)\n",
    "    print(f\"cryptobuddy: {response}\")\n"
   ]
  },
  {
   "cell_type": "code",
   "execution_count": null,
   "id": "6175e442-20b3-4e32-bc98-8c6f77acff38",
   "metadata": {},
   "outputs": [],
   "source": []
  }
 ],
 "metadata": {
  "kernelspec": {
   "display_name": "Python 3 (ipykernel)",
   "language": "python",
   "name": "python3"
  },
  "language_info": {
   "codemirror_mode": {
    "name": "ipython",
    "version": 3
   },
   "file_extension": ".py",
   "mimetype": "text/x-python",
   "name": "python",
   "nbconvert_exporter": "python",
   "pygments_lexer": "ipython3",
   "version": "3.12.5"
  }
 },
 "nbformat": 4,
 "nbformat_minor": 5
}
