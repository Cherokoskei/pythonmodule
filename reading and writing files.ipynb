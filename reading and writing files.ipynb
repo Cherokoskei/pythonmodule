{
 "cells": [
  {
   "cell_type": "code",
   "execution_count": 1,
   "id": "c9ed5c28-a9aa-4650-9fe5-6e8c5b9cc25b",
   "metadata": {},
   "outputs": [
    {
     "name": "stdout",
     "output_type": "stream",
     "text": [
      "The file input.txt was not found.\n"
     ]
    }
   ],
   "source": [
    "# Function to read, process, and write to a new file\n",
    "def process_file(input_file, output_file):\n",
    "    try:\n",
    "        # Open the input file for reading\n",
    "        with open(input_file, 'r') as infile:\n",
    "            # Read the content of the file\n",
    "            content = infile.read()\n",
    "\n",
    "        # Process the content (convert text to uppercase)\n",
    "        processed_content = content.upper()\n",
    "\n",
    "        # Open the output file for writing\n",
    "        with open(output_file, 'w') as outfile:\n",
    "            # Write the processed content to the new file\n",
    "            outfile.write(processed_content)\n",
    "        \n",
    "        print(f\"File processed successfully! Results are written to '{output_file}'.\")\n",
    "\n",
    "    except FileNotFoundError:\n",
    "        print(f\"The file {input_file} was not found.\")\n",
    "    except Exception as e:\n",
    "        print(f\"An error occurred: {e}\")\n",
    "\n",
    "# Example usage\n",
    "input_file = 'input.txt'   # Replace with your input file path\n",
    "output_file = 'output.txt' # Replace with your output file path\n",
    "\n",
    "# Call the function to process the file\n",
    "process_file(input_file, output_file)\n"
   ]
  },
  {
   "cell_type": "code",
   "execution_count": 2,
   "id": "3cef10f5-21ce-46dd-bc7d-d306b59c54b4",
   "metadata": {},
   "outputs": [
    {
     "name": "stdin",
     "output_type": "stream",
     "text": [
      "Enter the input filename (to read from):  sadi\n",
      "Enter the output filename (to write to):  thui\n"
     ]
    },
    {
     "name": "stdout",
     "output_type": "stream",
     "text": [
      "Error: The file 'sadi' was not found.\n"
     ]
    }
   ],
   "source": [
    "def read_and_modify_file(input_filename, output_filename):\n",
    "    try:\n",
    "        \n",
    "        with open(input_filename, 'r') as infile:\n",
    "            content = infile.read()\n",
    "\n",
    "        \n",
    "        modified_content = content.upper()\n",
    "\n",
    "        \n",
    "        with open(output_filename, 'w') as outfile:\n",
    "            outfile.write(modified_content)\n",
    "        \n",
    "        print(f\"File '{input_filename}' was successfully read and modified content was written to '{output_filename}'.\")\n",
    "\n",
    "    except FileNotFoundError:\n",
    "        print(f\"Error: The file '{input_filename}' was not found.\")\n",
    "    except PermissionError:\n",
    "        print(f\"Error: You do not have permission to read or write to the file '{input_filename}' or '{output_filename}'.\")\n",
    "    except Exception as e:\n",
    "        print(f\"An unexpected error occurred: {e}\")\n",
    "\n",
    "def get_filename_and_process():\n",
    "    input_filename = input(\"Enter the input filename (to read from): \")\n",
    "    output_filename = input(\"Enter the output filename (to write to): \")\n",
    "    \n",
    "\n",
    "    read_and_modify_file(input_filename, output_filename)\n",
    "\n",
    "\n",
    "get_filename_and_process()\n"
   ]
  },
  {
   "cell_type": "code",
   "execution_count": 3,
   "id": "90d8e2fc-8769-4756-ad01-42dcd15fe0da",
   "metadata": {},
   "outputs": [
    {
     "name": "stdout",
     "output_type": "stream",
     "text": [
      "Error: The file 'example.txt' was not found.\n"
     ]
    }
   ],
   "source": [
    "def modify_file(input_filename, output_filename):\n",
    "    try:\n",
    "        \n",
    "        with open(input_filename, 'r') as infile:\n",
    "            content = infile.read()  \n",
    "\n",
    "        \n",
    "        modified_content = content[::-1]\n",
    "\n",
    "       \n",
    "        with open(output_filename, 'w') as outfile:\n",
    "            outfile.write(modified_content)  \n",
    "\n",
    "        print(f\"File '{input_filename}' was successfully read and modified content was written to '{output_filename}'.\")\n",
    "\n",
    "    except FileNotFoundError:\n",
    "        print(f\"Error: The file '{input_filename}' was not found.\")\n",
    "    except PermissionError:\n",
    "        print(f\"Error: You do not have permission to read or write to the file '{input_filename}' or '{output_filename}'.\")\n",
    "    except Exception as e:\n",
    "        print(f\"An unexpected error occurred: {e}\")\n",
    "\n",
    "\n",
    "input_filename = 'example.txt'   \n",
    "output_filename = 'modified_example.txt'  \n",
    "\n",
    "modify_file(input_filename, output_filename)\n"
   ]
  },
  {
   "cell_type": "code",
   "execution_count": null,
   "id": "61e67e2f-7680-4c57-a73d-00081a78c126",
   "metadata": {},
   "outputs": [],
   "source": []
  }
 ],
 "metadata": {
  "kernelspec": {
   "display_name": "Python 3 (ipykernel)",
   "language": "python",
   "name": "python3"
  },
  "language_info": {
   "codemirror_mode": {
    "name": "ipython",
    "version": 3
   },
   "file_extension": ".py",
   "mimetype": "text/x-python",
   "name": "python",
   "nbconvert_exporter": "python",
   "pygments_lexer": "ipython3",
   "version": "3.12.5"
  }
 },
 "nbformat": 4,
 "nbformat_minor": 5
}
