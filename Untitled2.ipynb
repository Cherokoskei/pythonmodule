{
 "cells": [
  {
   "cell_type": "code",
   "execution_count": 3,
   "id": "eb4e5ff6-1d1e-4b1a-b5e3-d26ef92ad226",
   "metadata": {},
   "outputs": [
    {
     "name": "stdout",
     "output_type": "stream",
     "text": [
      "Nairobi\n"
     ]
    }
   ],
   "source": [
    "capital_cities = {\n",
    "\"Kenya\":\"Nairobi\",\n",
    "}\n",
    "print(capital_cities[\"Kenya\"])"
   ]
  },
  {
   "cell_type": "code",
   "execution_count": 1,
   "id": "55be8f16-bfba-4dba-9a42-5b0d4994d63b",
   "metadata": {},
   "outputs": [
    {
     "name": "stdout",
     "output_type": "stream",
     "text": [
      "{1, 2, 3, 4}\n"
     ]
    }
   ],
   "source": [
    "set= {3,4,3,2,1}\n",
    "print(set)"
   ]
  },
  {
   "cell_type": "code",
   "execution_count": null,
   "id": "61d1f94d-a63a-4928-917b-cc508ad5d0cd",
   "metadata": {},
   "outputs": [],
   "source": []
  }
 ],
 "metadata": {
  "kernelspec": {
   "display_name": "Python 3 (ipykernel)",
   "language": "python",
   "name": "python3"
  },
  "language_info": {
   "codemirror_mode": {
    "name": "ipython",
    "version": 3
   },
   "file_extension": ".py",
   "mimetype": "text/x-python",
   "name": "python",
   "nbconvert_exporter": "python",
   "pygments_lexer": "ipython3",
   "version": "3.12.3"
  }
 },
 "nbformat": 4,
 "nbformat_minor": 5
}
