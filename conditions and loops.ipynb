{
 "cells": [
  {
   "cell_type": "code",
   "execution_count": 18,
   "id": "cea52b11-022c-4fc9-8f26-80fda45eb8fb",
   "metadata": {},
   "outputs": [
    {
     "name": "stdin",
     "output_type": "stream",
     "text": [
      "student marks from 0-100: 90\n"
     ]
    },
    {
     "name": "stdout",
     "output_type": "stream",
     "text": [
      "Excellent work\n",
      "Good work\n",
      "Fair\n"
     ]
    }
   ],
   "source": [
    "marks= int(input(\"student marks from 0-100:\"))\n",
    "if marks >= 70:\n",
    "    print(\"Excellent work\")\n",
    "if marks > 50:\n",
    "    print( \"Good work\")\n",
    "if marks > 40:\n",
    "    print(\"Fair\")\n",
    "else:\n",
    "    print(\"work hard\")\n",
    "\n",
    "\n"
   ]
  },
  {
   "cell_type": "code",
   "execution_count": 8,
   "id": "7296b1dc-3ad4-4c75-8f0d-25fdb496a02b",
   "metadata": {},
   "outputs": [
    {
     "name": "stdout",
     "output_type": "stream",
     "text": [
      "its a cold day\n"
     ]
    }
   ],
   "source": [
    "temperature = 30\n",
    "if temperature >31:\n",
    "    print(\"its a hot day\")\n",
    "else:\n",
    "    print(\"its a cold day\")"
   ]
  },
  {
   "cell_type": "code",
   "execution_count": 9,
   "id": "f7fc5ee7-eeb1-4b24-9571-c38af86f9bd6",
   "metadata": {},
   "outputs": [
    {
     "name": "stdin",
     "output_type": "stream",
     "text": [
      "student name: joel\n",
      "student marks from 0-100: 39\n"
     ]
    },
    {
     "name": "stdout",
     "output_type": "stream",
     "text": [
      "Name: joel Marks: 39 comment:\n",
      "work hard\n"
     ]
    }
   ],
   "source": [
    "\n",
    "name = input(\"student name:\")\n",
    "marks= int(input(\"student marks from 0-100:\"))\n",
    "print(\"Name:\",name,\"Marks:\",marks, \"comment:\")\n",
    "if marks >=70:\n",
    "    print(\"excellent work\")\n",
    "elif marks >= 50:\n",
    "    print(\"good work\")\n",
    "elif marks >= 40:\n",
    "    print(\"fair, there's room for improvement\")\n",
    "else:\n",
    "    print(\"work hard\")"
   ]
  },
  {
   "cell_type": "code",
   "execution_count": 23,
   "id": "5b43f56b-18f9-4664-a3d8-f91058cb878c",
   "metadata": {},
   "outputs": [
    {
     "name": "stdout",
     "output_type": "stream",
     "text": [
      "apple\n",
      "quava\n",
      "banana\n"
     ]
    }
   ],
   "source": [
    "fruits = [\"apple\",\"quava\",\"banana\"]\n",
    "for fruit in fruits:\n",
    "    print(fruit)\n",
    "    \n"
   ]
  },
  {
   "cell_type": "code",
   "execution_count": 12,
   "id": "71ef6887-66ef-40a9-8f55-67c4b3ec39b7",
   "metadata": {},
   "outputs": [],
   "source": [
    "count= 1\n",
    "while count <=5:\n",
    "    print(count)\n",
    "    count+= 1\n"
   ]
  },
  {
   "cell_type": "code",
   "execution_count": 14,
   "id": "cc6bacac-23c0-4d12-af58-6dfcd45fedd3",
   "metadata": {},
   "outputs": [
    {
     "name": "stdin",
     "output_type": "stream",
     "text": [
      "Names: shiro, velo, melo, meri, stecy\n"
     ]
    },
    {
     "name": "stdout",
     "output_type": "stream",
     "text": [
      "1\n",
      "2\n",
      "3\n"
     ]
    }
   ],
   "source": [
    "Girlfriends= 1\n",
    "names= input(\"Names:\")\n",
    "while Girlfriends <=3:\n",
    "    print(Girlfriends)\n",
    "    Girlfriends+= 1\n",
    "    \n"
   ]
  },
  {
   "cell_type": "code",
   "execution_count": 6,
   "id": "522f2aa1-5fdc-41f4-9358-223cbf6aa57e",
   "metadata": {},
   "outputs": [
    {
     "name": "stdout",
     "output_type": "stream",
     "text": [
      "e\n"
     ]
    }
   ],
   "source": [
    "for letter in \"Hello there\":\n",
    "    i= letter\n",
    "print(i)\n",
    "  "
   ]
  },
  {
   "cell_type": "code",
   "execution_count": 8,
   "id": "c342ff65-c238-4922-9896-625b0c5440b5",
   "metadata": {},
   "outputs": [
    {
     "name": "stdin",
     "output_type": "stream",
     "text": [
      " write your name: shillah\n"
     ]
    },
    {
     "name": "stdout",
     "output_type": "stream",
     "text": [
      "shillah\n"
     ]
    },
    {
     "name": "stdin",
     "output_type": "stream",
     "text": [
      " write your favourite color: red\n"
     ]
    },
    {
     "name": "stdout",
     "output_type": "stream",
     "text": [
      "red\n",
      "Hello,shillah! Your favourite color,red, is amazing!\n"
     ]
    }
   ],
   "source": [
    "name = input(\" write your name:\")\n",
    "print(name)\n",
    "fav_color = input(\" write your favourite color:\")\n",
    "print(fav_color)\n",
    "print(f\"Hello,{name}! Your favourite color,{fav_color}, is amazing!\")\n"
   ]
  },
  {
   "cell_type": "code",
   "execution_count": 9,
   "id": "4e13ab63-e40d-4512-8261-c0d5ed76f074",
   "metadata": {},
   "outputs": [
    {
     "name": "stdout",
     "output_type": "stream",
     "text": [
      "\n",
      "What is the output of print(2 + 3 * 4)?\n",
      "1. 20\n",
      "2. 14\n",
      "3. 12\n",
      "4. 16\n"
     ]
    },
    {
     "name": "stdin",
     "output_type": "stream",
     "text": [
      "Choose the correct option (1, 2, 3, or 4):  2\n"
     ]
    },
    {
     "name": "stdout",
     "output_type": "stream",
     "text": [
      "Correct! 🎉\n",
      "\n",
      "Which of these is a Python data type?\n",
      "1. list\n",
      "2. array\n",
      "3. matrix\n",
      "4. vector\n"
     ]
    },
    {
     "name": "stdin",
     "output_type": "stream",
     "text": [
      "Choose the correct option (1, 2, 3, or 4):  1\n"
     ]
    },
    {
     "name": "stdout",
     "output_type": "stream",
     "text": [
      "Correct! 🎉\n",
      "\n",
      "Who directed the movie 'Inception'?\n",
      "1. Christopher Nolan\n",
      "2. Steven Spielberg\n",
      "3. Martin Scorsese\n",
      "4. Quentin Tarantino\n"
     ]
    },
    {
     "name": "stdin",
     "output_type": "stream",
     "text": [
      "Choose the correct option (1, 2, 3, or 4):  1\n"
     ]
    },
    {
     "name": "stdout",
     "output_type": "stream",
     "text": [
      "Correct! 🎉\n",
      "\n",
      "What is the capital city of France?\n",
      "1. Berlin\n",
      "2. Madrid\n",
      "3. Paris\n",
      "4. Rome\n"
     ]
    },
    {
     "name": "stdin",
     "output_type": "stream",
     "text": [
      "Choose the correct option (1, 2, 3, or 4):  1\n"
     ]
    },
    {
     "name": "stdout",
     "output_type": "stream",
     "text": [
      "Wrong! The correct answer was Paris.\n",
      "\n",
      "Which Python function is used to get the length of a list?\n",
      "1. size()\n",
      "2. length()\n",
      "3. count()\n",
      "4. len()\n"
     ]
    },
    {
     "name": "stdin",
     "output_type": "stream",
     "text": [
      "Choose the correct option (1, 2, 3, or 4):  4\n"
     ]
    },
    {
     "name": "stdout",
     "output_type": "stream",
     "text": [
      "Correct! 🎉\n",
      "\n",
      "Your final score is: 4/5 🏆\n"
     ]
    },
    {
     "name": "stdin",
     "output_type": "stream",
     "text": [
      "\n",
      "Do you want to play again? (yes/no):  yes\n"
     ]
    },
    {
     "name": "stdout",
     "output_type": "stream",
     "text": [
      "\n",
      "What is the output of print(2 + 3 * 4)?\n",
      "1. 20\n",
      "2. 14\n",
      "3. 12\n",
      "4. 16\n"
     ]
    },
    {
     "name": "stdin",
     "output_type": "stream",
     "text": [
      "Choose the correct option (1, 2, 3, or 4):  2\n"
     ]
    },
    {
     "name": "stdout",
     "output_type": "stream",
     "text": [
      "Correct! 🎉\n",
      "\n",
      "Which of these is a Python data type?\n",
      "1. list\n",
      "2. array\n",
      "3. matrix\n",
      "4. vector\n"
     ]
    },
    {
     "name": "stdin",
     "output_type": "stream",
     "text": [
      "Choose the correct option (1, 2, 3, or 4):  1\n"
     ]
    },
    {
     "name": "stdout",
     "output_type": "stream",
     "text": [
      "Correct! 🎉\n",
      "\n",
      "Who directed the movie 'Inception'?\n",
      "1. Christopher Nolan\n",
      "2. Steven Spielberg\n",
      "3. Martin Scorsese\n",
      "4. Quentin Tarantino\n"
     ]
    },
    {
     "name": "stdin",
     "output_type": "stream",
     "text": [
      "Choose the correct option (1, 2, 3, or 4):  1\n"
     ]
    },
    {
     "name": "stdout",
     "output_type": "stream",
     "text": [
      "Correct! 🎉\n",
      "\n",
      "What is the capital city of France?\n",
      "1. Berlin\n",
      "2. Madrid\n",
      "3. Paris\n",
      "4. Rome\n"
     ]
    },
    {
     "name": "stdin",
     "output_type": "stream",
     "text": [
      "Choose the correct option (1, 2, 3, or 4):  3\n"
     ]
    },
    {
     "name": "stdout",
     "output_type": "stream",
     "text": [
      "Correct! 🎉\n",
      "\n",
      "Which Python function is used to get the length of a list?\n",
      "1. size()\n",
      "2. length()\n",
      "3. count()\n",
      "4. len()\n"
     ]
    },
    {
     "name": "stdin",
     "output_type": "stream",
     "text": [
      "Choose the correct option (1, 2, 3, or 4):  4\n"
     ]
    },
    {
     "name": "stdout",
     "output_type": "stream",
     "text": [
      "Correct! 🎉\n",
      "\n",
      "Your final score is: 5/5 🏆\n"
     ]
    },
    {
     "name": "stdin",
     "output_type": "stream",
     "text": [
      "\n",
      "Do you want to play again? (yes/no):  no\n"
     ]
    },
    {
     "name": "stdout",
     "output_type": "stream",
     "text": [
      "Thanks for playing! 😊\n"
     ]
    }
   ],
   "source": [
    "## def quiz():\n",
    "    questions = [\n",
    "        {\n",
    "            \"question\": \"What is the output of print(2 + 3 * 4)?\",\n",
    "            \"options\": [\"20\", \"14\", \"12\", \"16\"],\n",
    "            \"answer\": \"14\"\n",
    "        },\n",
    "        {\n",
    "            \"question\": \"Which of these is a Python data type?\",\n",
    "            \"options\": [\"list\", \"array\", \"matrix\", \"vector\"],\n",
    "            \"answer\": \"list\"\n",
    "        },\n",
    "        {\n",
    "            \"question\": \"Who directed the movie 'Inception'?\",\n",
    "            \"options\": [\"Christopher Nolan\", \"Steven Spielberg\", \"Martin Scorsese\", \"Quentin Tarantino\"],\n",
    "            \"answer\": \"Christopher Nolan\"\n",
    "        },\n",
    "        {\n",
    "            \"question\": \"What is the capital city of Kenya?\",\n",
    "            \"options\": [\"Nairobi\", \"Kisumu\", \"Eldoret\", \"Mombasa\"],\n",
    "            \"answer\": \"Nairobi\"\n",
    "        },\n",
    "        {\n",
    "            \"question\": \"Which Python function is used to get the length of a list?\",\n",
    "            \"options\": [\"size()\", \"length()\", \"count()\", \"len()\"],\n",
    "            \"answer\": \"len()\"\n",
    "        }\n",
    "    ]\n",
    "\n",
    "    score = 0\n",
    "\n",
    "    # Loop through all the questions\n",
    "    for q in questions:\n",
    "        print(\"\\n\" + q[\"question\"])\n",
    "        for i, option in enumerate(q[\"options\"], 1):\n",
    "            print(f\"{i}. {option}\")\n",
    "\n",
    "        # Get user answer\n",
    "        answer = input(\"Choose the correct option (1, 2, 3, or 4): \")\n",
    "        if q[\"options\"][int(answer) - 1] == q[\"answer\"]:\n",
    "            print(\"Correct! 🎉\")\n",
    "            score += 1\n",
    "        else:\n",
    "            print(f\"Wrong! The correct answer was {q['answer']}.\")\n",
    "\n",
    "    print(f\"\\nYour final score is: {score}/{len(questions)} 🏆\")\n",
    "\n",
    "    # Ask if the user wants to play again\n",
    "    play_again = input(\"\\nDo you want to play again? (yes/no): \").lower()\n",
    "    if play_again == 'yes':\n",
    "        quiz()\n",
    "    else:\n",
    "        print(\"Thanks for playing! 😊\")\n",
    "\n",
    "# Start the quiz\n",
    "quiz()\n"
   ]
  },
  {
   "cell_type": "code",
   "execution_count": 21,
   "id": "c526668b-c0e2-45cc-8094-73da6d327981",
   "metadata": {},
   "outputs": [
    {
     "name": "stdout",
     "output_type": "stream",
     "text": [
      "Quick one:\n",
      "Why do Java developers wear glasses? Because they don’t see sharp!\n"
     ]
    }
   ],
   "source": [
    "import random\n",
    "\n",
    "def get_random_joke():\n",
    "    jokes = [\n",
    "        \"Why do programmers prefer dark mode? Because the light attracts bugs!\",\n",
    "        \"Why do Python programmers prefer snake_case? Because python is a snake \",\n",
    "        \"How did the Python programmer break up with their partner? By tone \",\n",
    "        \"Why don't programmers like nature? they feel mature\",\n",
    "        \"What do you call 8 hobbits? A hobbyte! \",\n",
    "        \"Why did the developer go broke? Because they used up all their cache.\",\n",
    "        \"Why was the JavaScript developer sad? Because they didn’t know how to 'null' their feelings. \",\n",
    "        \"A SQL query walks into a bar... and asks, 'Can I join you?' \",\n",
    "        \"Why do Java developers wear glasses? Because they don’t see sharp!\",\n",
    "        \"I told my computer I needed a break... Now it won’t stop sending me Kit-Kats!\",\n",
    "    ]\n",
    "    \n",
    "    # Randomly select a joke from the list\n",
    "    return random.choice(jokes)\n",
    "\n",
    "# Display a random joke when the user runs the program\n",
    "if __name__ == \"__main__\":\n",
    "    print(\"Quick one:\")\n",
    "    print(get_random_joke())\n"
   ]
  },
  {
   "cell_type": "code",
   "execution_count": null,
   "id": "b0413176-fc77-4ace-8950-54a33ec31260",
   "metadata": {},
   "outputs": [],
   "source": [
    "\n",
    "num1 = float(input(\"Enter the first number: \"))  \n",
    "num2 = float(input(\"Enter the second number: \"))  \n",
    "operation = input(\"Enter the operation (+, -, *, /): \")\n",
    "num1=100\n",
    "\n",
    "if operation == \"+\":\n",
    "    result = num1 + num2\n",
    "elif operation == \"-\":\n",
    "    result = num1 - num2\n",
    "elif operation == \"*\":\n",
    "    result = num1 * num2\n",
    "elif operation == \"/\":\n",
    "    if num2 != 0:\n",
    "        result = num1 / num2\n",
    "    else:\n",
    "        result = \"Error! Division by zero.\"\n",
    "else:\n",
    "    result = \"Invalid operation!\"\n",
    "\n",
    "print(f\"{num1} {operation} {num2} = {result}\")\n"
   ]
  },
  {
   "cell_type": "code",
   "execution_count": 44,
   "id": "c76ba257-d9d0-42d1-816b-07e454e0aa85",
   "metadata": {},
   "outputs": [
    {
     "name": "stdout",
     "output_type": "stream",
     "text": [
      "[10, 2, 4, 5, 8, 9, 6]\n",
      "10\n",
      "2\n",
      "4\n",
      "5\n",
      "8\n",
      "9\n",
      "6\n"
     ]
    }
   ],
   "source": [
    "list= [1,2,3,4,5]\n",
    "list[0]=10\n",
    "list.append(7)\n",
    "list.extend([8,9])\n",
    "list.insert(len(list),6)\n",
    "list.pop(2)\n",
    "del list[4]\n",
    "print(list)\n",
    "for item in list:\n",
    "    print(item)\n",
    "\n",
    "\n",
    "\n",
    "\n"
   ]
  },
  {
   "cell_type": "code",
   "execution_count": 48,
   "id": "d9cab03c-7854-4666-ba4c-b06fd294aacb",
   "metadata": {},
   "outputs": [
    {
     "name": "stdout",
     "output_type": "stream",
     "text": [
      "My favorite books are:\n",
      "Deception\n",
      "To Kill a Mockingbird\n",
      "The Great controversy\n",
      "Moby Dick\n",
      "blossoms\n"
     ]
    }
   ],
   "source": [
    "# Creating a tuple with the names of favorite books\n",
    "favorite_books = (\"Deception\", \"To Kill a Mockingbird\", \"The Great controversy\", \"Moby Dick\", \"blossoms\")\n",
    "\n",
    "# Using a for loop to print each book name on a new line\n",
    "print(\"My favorite books are:\")\n",
    "for book in favorite_books:\n",
    "    print(book)\n"
   ]
  },
  {
   "cell_type": "code",
   "execution_count": 49,
   "id": "7034fa27-fd87-48b7-8ee6-fd74f5667614",
   "metadata": {},
   "outputs": [
    {
     "name": "stdout",
     "output_type": "stream",
     "text": [
      "Enter integers to add to the list (Press Enter without typing to finish):\n"
     ]
    },
    {
     "name": "stdin",
     "output_type": "stream",
     "text": [
      "Enter a number:  5\n",
      "Enter a number:  \n"
     ]
    },
    {
     "name": "stdout",
     "output_type": "stream",
     "text": [
      "The sum of all integers in the list is: 5\n"
     ]
    }
   ],
   "source": [
    "# Accepting user input to create a list of integers\n",
    "num_list = []\n",
    "\n",
    "# Ask user to input integers until they press Enter without typing anything\n",
    "print(\"Enter integers to add to the list (Press Enter without typing to finish):\")\n",
    "\n",
    "while True:\n",
    "    user_input = input(\"Enter a number: \")\n",
    "    if user_input == \"\":\n",
    "        break\n",
    "    try:\n",
    "        num_list.append(int(user_input))\n",
    "    except ValueError:\n",
    "        print(\"Please enter a valid integer.\")\n",
    "\n",
    "# Calculating the sum of all integers in the list\n",
    "total_sum = sum(num_list)\n",
    "\n",
    "# Printing the result\n",
    "print(f\"The sum of all integers in the list is: {total_sum}\")\n"
   ]
  },
  {
   "cell_type": "code",
   "execution_count": 51,
   "id": "43e95b7f-13b1-4706-90d7-2570ab7054c1",
   "metadata": {},
   "outputs": [
    {
     "name": "stdin",
     "output_type": "stream",
     "text": [
      "Enter your name:  shaz\n",
      "Enter your age:  23\n",
      "Enter your favorite color:  blue\n"
     ]
    },
    {
     "name": "stdout",
     "output_type": "stream",
     "text": [
      "\n",
      "personal information:\n",
      "{'name': 'shaz', 'age': 23, 'favorite_color': 'blue'}\n"
     ]
    }
   ],
   "source": [
    "# Creating a dictionary to store information about a person\n",
    "person_info = {}\n",
    "\n",
    "# Asking user for input\n",
    "person_info['name'] = input(\"Enter your name: \")\n",
    "person_info['age'] = int(input(\"Enter your age: \"))\n",
    "person_info['favorite_color'] = input(\"Enter your favorite color: \")\n",
    "\n",
    "# Printing the dictionary to the console\n",
    "print(\"\\npersonal information:\")\n",
    "print(person_info)\n"
   ]
  },
  {
   "cell_type": "code",
   "execution_count": null,
   "id": "5718e051-6b8d-47f3-af74-cafd6cb2b1f5",
   "metadata": {},
   "outputs": [],
   "source": [
    "# Accepting user input to create two sets of integers\n",
    "set1 = set(map(int, input(\"Enter the first set of integers (space-separated): \").split()))\n",
    "set2 = set(map(int, input(\"Enter the second set of integers (space-separated): \").split()))\n",
    "\n",
    "# Creating a new set that contains only the elements common to both sets\n",
    "common_elements = set1.intersection(set2)\n",
    "\n",
    "# Printing the result\n",
    "print(f\"The common elements between the two sets are: {common_elements}\")\n"
   ]
  },
  {
   "cell_type": "code",
   "execution_count": null,
   "id": "ce175e1d-8b7a-410d-a7d8-0a44514cd0f1",
   "metadata": {},
   "outputs": [],
   "source": [
    "# Storing a list of words\n",
    "words = [\"apple\", \"banana\", \"kiwi\", \"orange\", \"grape\", \"peach\"]\n",
    "\n",
    "# Using list comprehension to create a new list of words with odd number of characters\n",
    "odd_length_words = [word for word in words if len(word) % 2 != 0]\n",
    "\n",
    "# Printing the list of words with odd number of characters\n",
    "print(\"Words with an odd number of characters:\")\n",
    "print(odd_length_words)\n"
   ]
  },
  {
   "cell_type": "code",
   "execution_count": 45,
   "id": "e1f872ae-adae-4953-a193-336334168e65",
   "metadata": {},
   "outputs": [
    {
     "name": "stdout",
     "output_type": "stream",
     "text": [
      "Index of 30: 3\n",
      "Final list: [10, 15, 20, 30, 40, 50, 60]\n"
     ]
    }
   ],
   "source": [
    "\n",
    "my_list = []\n",
    "\n",
    "my_list.append(10)\n",
    "my_list.append(20)\n",
    "my_list.append(30)\n",
    "my_list.append(40)\n",
    "\n",
    "my_list.insert(1, 15)\n",
    "\n",
    "my_list.extend([50, 60, 70])\n",
    "\n",
    "my_list.pop()\n",
    "\n",
    "\n",
    "my_list.sort()\n",
    "\n",
    "index_of_30 = my_list.index(30)\n",
    "print(\"Index of 30:\", index_of_30)\n",
    "\n"
   ]
  },
  {
   "cell_type": "code",
   "execution_count": 46,
   "id": "59d503de-f98c-42c4-ab25-8c8014ef6e3f",
   "metadata": {},
   "outputs": [
    {
     "name": "stdout",
     "output_type": "stream",
     "text": [
      "Hello, Alice!\n"
     ]
    }
   ],
   "source": [
    "# Function definition\n",
    "def greet(name):\n",
    "    \"\"\"Greet a person by their name.\"\"\"\n",
    "    return f\"Hello, {name}!\"\n",
    "\n",
    "# Function call\n",
    "print(greet(\"Alice\"))  "
   ]
  },
  {
   "cell_type": "code",
   "execution_count": 60,
   "id": "0a3df48e-79b7-4ed9-80e5-09128e5d1916",
   "metadata": {},
   "outputs": [
    {
     "name": "stdout",
     "output_type": "stream",
     "text": [
      "The original price is: sh100.00\n",
      "The discount percentage is: 25%\n",
      "The final price after applying the discount is: sh75.00\n"
     ]
    }
   ],
   "source": [
    "\n",
    "\n",
    "def calculate_discount(price, discount_percent):\n",
    "\n",
    "    if discount_percent >= 20:\n",
    "    \n",
    "        discount_amount = (discount_percent / 100) * price\n",
    "        final_price = price - discount_amount\n",
    "        return final_price\n",
    "    else:\n",
    "        \n",
    "        return price\n",
    "\n",
    "\n",
    "price = 100           \n",
    "discount_percent = 25 \n",
    "\n",
    "final_price = calculate_discount(price, discount_percent)\n",
    "\n",
    "\n",
    "print(f\"The original price is: sh{price:.2f}\")\n",
    "print(f\"The discount percentage is: {discount_percent}%\")\n",
    "print(f\"The final price after applying the discount is: sh{final_price:.2f}\")\n",
    "\n"
   ]
  },
  {
   "cell_type": "code",
   "execution_count": 61,
   "id": "0865f05f-6239-40e1-935c-ad4a7b65883a",
   "metadata": {},
   "outputs": [
    {
     "name": "stdin",
     "output_type": "stream",
     "text": [
      "Enter the original price of the item: sh 400\n",
      "Enter the discount percentage:  5\n"
     ]
    },
    {
     "name": "stdout",
     "output_type": "stream",
     "text": [
      "The original price is: sh 400.00\n"
     ]
    }
   ],
   "source": [
    "\n",
    "def calculate_discount(price, discount_percent):\n",
    "    \n",
    "    if discount_percent >= 20:\n",
    "\n",
    "        discount_amount = (discount_percent / 100) * price\n",
    "        final_price = price - discount_amount\n",
    "        return final_price\n",
    "    else:\n",
    "    \n",
    "        return price\n",
    "\n",
    "price = float(input(\"Enter the original price of the item: sh\"))\n",
    "discount_percent = float(input(\"Enter the discount percentage: \"))\n",
    "\n",
    "final_price = calculate_discount(price, discount_percent)\n",
    "\n",
    "if final_price == price:\n",
    "    print(f\"The original price is: sh {price:.2f}\")\n",
    "else:\n",
    "    print(f\"The final price after applying the discount is: sh{final_price:.2f}\")\n"
   ]
  },
  {
   "cell_type": "code",
   "execution_count": 1,
   "id": "6bb32575-d63c-47a2-8fd5-d95af1514c65",
   "metadata": {},
   "outputs": [
    {
     "name": "stdout",
     "output_type": "stream",
     "text": [
      "Power Learn Project\n"
     ]
    }
   ],
   "source": [
    "site_name = \"Power Learn Project\"\n",
    "print(site_name)"
   ]
  },
  {
   "cell_type": "code",
   "execution_count": 3,
   "id": "b43f5885-ee0e-45b6-8ac5-48e7477e1131",
   "metadata": {},
   "outputs": [
    {
     "name": "stdout",
     "output_type": "stream",
     "text": [
      "I love coding 😊\n"
     ]
    }
   ],
   "source": [
    "site_name = \"Power Learn Project\"\n",
    "\n",
    "site_name = \"I love coding 😊\"\n",
    "print(site_name)"
   ]
  },
  {
   "cell_type": "code",
   "execution_count": 5,
   "id": "73274776-42a6-4597-8a57-5ddddbe301a1",
   "metadata": {},
   "outputs": [
    {
     "name": "stdin",
     "output_type": "stream",
     "text": [
      "write your name: joel\n"
     ]
    },
    {
     "ename": "NameError",
     "evalue": "name 'name' is not defined",
     "output_type": "error",
     "traceback": [
      "\u001b[0;31m---------------------------------------------------------------------------\u001b[0m",
      "\u001b[0;31mNameError\u001b[0m                                 Traceback (most recent call last)",
      "Cell \u001b[0;32mIn[5], line 2\u001b[0m\n\u001b[1;32m      1\u001b[0m names\u001b[38;5;241m=\u001b[39m \u001b[38;5;28minput\u001b[39m(\u001b[38;5;124m\"\u001b[39m\u001b[38;5;124mwrite your name:\u001b[39m\u001b[38;5;124m\"\u001b[39m)\n\u001b[0;32m----> 2\u001b[0m \u001b[38;5;28mprint\u001b[39m(\u001b[43mname\u001b[49m)\n",
      "\u001b[0;31mNameError\u001b[0m: name 'name' is not defined"
     ]
    }
   ],
   "source": [
    "names= input(\"write your name:\")\n",
    "print(names)\n"
   ]
  },
  {
   "cell_type": "code",
   "execution_count": 6,
   "id": "8cec8054-54fe-448a-b5c7-4267240d65ea",
   "metadata": {},
   "outputs": [
    {
     "name": "stdout",
     "output_type": "stream",
     "text": [
      "{'Kenya': 'Nairobi', 'Nigeria': 'Lagos'}\n"
     ]
    }
   ],
   "source": [
    "capital_city = {\"Kenya\": \"Nairobi\", \"Nigeria\": \"Lagos\"}\n",
    "print(capital_city)"
   ]
  },
  {
   "cell_type": "code",
   "execution_count": null,
   "id": "27c94329-1299-464b-8525-b0349d5030a6",
   "metadata": {},
   "outputs": [],
   "source": []
  }
 ],
 "metadata": {
  "kernelspec": {
   "display_name": "Python 3 (ipykernel)",
   "language": "python",
   "name": "python3"
  },
  "language_info": {
   "codemirror_mode": {
    "name": "ipython",
    "version": 3
   },
   "file_extension": ".py",
   "mimetype": "text/x-python",
   "name": "python",
   "nbconvert_exporter": "python",
   "pygments_lexer": "ipython3",
   "version": "3.12.5"
  }
 },
 "nbformat": 4,
 "nbformat_minor": 5
}
