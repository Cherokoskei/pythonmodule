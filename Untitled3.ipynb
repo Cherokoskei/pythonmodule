{
 "cells": [
  {
   "cell_type": "code",
   "execution_count": null,
   "id": "3e41c8f0-4690-4e44-ad17-1183597547fa",
   "metadata": {},
   "outputs": [],
   "source": [
    "x=15\n",
    "x = x >> 3\n",
    "print(x)"
   ]
  },
  {
   "cell_type": "code",
   "execution_count": null,
   "id": "c984846a-4455-49a7-93f0-e78e8c35ffe7",
   "metadata": {},
   "outputs": [],
   "source": [
    "name = input(\" write your name:\")\n",
    "print(name)\n",
    "fav_color = input(\" write your favourite color:\")\n",
    "print(fav_color)\n",
    "print(\"Hello,name! Your favourite color,fav_color, is amazing!\")"
   ]
  },
  {
   "cell_type": "code",
   "execution_count": null,
   "id": "9dafc28c-185f-4e38-a64b-ea02acbc9f29",
   "metadata": {},
   "outputs": [],
   "source": [
    "x= 3,                                                                                                                                                                   x= 3,-3"
   ]
  },
  {
   "cell_type": "code",
   "execution_count": null,
   "id": "56a34938-a6b8-40cd-aa10-953cf71d89e0",
   "metadata": {},
   "outputs": [],
   "source": [
    "def func(x,y):\n",
    "    if (x == 0):\n",
    "        print(y)\n",
    "    else:\n",
    "        func(x-1,x-y)\n",
    "func(4,7)"
   ]
  },
  {
   "cell_type": "code",
   "execution_count": null,
   "id": "87e82bc2-9c38-4f77-97d9-391cfba4ee30",
   "metadata": {},
   "outputs": [],
   "source": [
    "for letter in \"Hello there:\"\n",
    "i= letter\n",
    "print(letter)\n",
    "  "
   ]
  },
  {
   "cell_type": "code",
   "execution_count": null,
   "id": "7c5e374c-c345-4aaa-9ca3-617e410932c5",
   "metadata": {},
   "outputs": [],
   "source": []
  }
 ],
 "metadata": {
  "kernelspec": {
   "display_name": "Python 3 (ipykernel)",
   "language": "python",
   "name": "python3"
  },
  "language_info": {
   "codemirror_mode": {
    "name": "ipython",
    "version": 3
   },
   "file_extension": ".py",
   "mimetype": "text/x-python",
   "name": "python",
   "nbconvert_exporter": "python",
   "pygments_lexer": "ipython3",
   "version": "3.12.5"
  }
 },
 "nbformat": 4,
 "nbformat_minor": 5
}
