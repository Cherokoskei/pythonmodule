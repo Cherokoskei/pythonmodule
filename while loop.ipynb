{
 "cells": [
  {
   "cell_type": "code",
   "execution_count": 1,
   "id": "7f6a22c7-1504-4ab6-863e-c5cb134d5428",
   "metadata": {},
   "outputs": [
    {
     "name": "stdout",
     "output_type": "stream",
     "text": [
      "Counting down: 5\n",
      "Counting down: 4\n",
      "Counting down: 3\n",
      "Counting down: 2\n",
      "Counting down: 1\n",
      "Blast off! 🚀\n"
     ]
    }
   ],
   "source": [
    "countdown = 5\n",
    "\n",
    "while countdown > 0:\n",
    "    print(\"Counting down:\", countdown)\n",
    "    countdown -= 1\n",
    "\n",
    "print(\"Blast off! 🚀\")\n",
    "\n",
    "\n"
   ]
  },
  {
   "cell_type": "code",
   "execution_count": 3,
   "id": "b9a3775a-d958-4d54-b479-4295120ab771",
   "metadata": {},
   "outputs": [
    {
     "name": "stdout",
     "output_type": "stream",
     "text": [
      "5\n"
     ]
    }
   ],
   "source": [
    "coordinates = (5, 20)\n",
    "\n",
    "# Accessing elements\n",
    "print(coordinates[0])  # Outputs: 10\n",
    "\n",
    "# Trying to modify a tuple will raise an error:\n",
    "# coordinates[0] = 5  # Error! Tuples can't be modified."
   ]
  },
  {
   "cell_type": "code",
   "execution_count": 4,
   "id": "4d4e0f20-1569-4758-9181-ae71c6776b61",
   "metadata": {},
   "outputs": [
    {
     "name": "stdout",
     "output_type": "stream",
     "text": [
      "15\n"
     ]
    }
   ],
   "source": [
    " def add_numbers(x, y):\n",
    "    return x + y\n",
    "\n",
    "result = add_numbers(10, 5)\n",
    "print(result)  # Outputs: 15\n",
    " "
   ]
  },
  {
   "cell_type": "code",
   "execution_count": 7,
   "id": "2a79b910-a671-46d1-85a7-ca2ee394b0e8",
   "metadata": {},
   "outputs": [
    {
     "name": "stdout",
     "output_type": "stream",
     "text": [
      "1.4142135623730951\n"
     ]
    }
   ],
   "source": [
    "import math\n",
    "print(math.sqrt(2))  # Outputs: 4.0"
   ]
  },
  {
   "cell_type": "code",
   "execution_count": 27,
   "id": "7c607dba-4dd9-4321-9130-0a7f87c1d5e3",
   "metadata": {},
   "outputs": [
    {
     "name": "stdout",
     "output_type": "stream",
     "text": [
      "2001-09-07 00:00:00\n"
     ]
    }
   ],
   "source": [
    "import datetime\n",
    "date=2\n",
    "time=6\n",
    "print(datetime.datetime(2001,9,7))"
   ]
  },
  {
   "cell_type": "code",
   "execution_count": 37,
   "id": "afc6dfec-ecf1-4a6a-8d15-e9656aa353aa",
   "metadata": {},
   "outputs": [
    {
     "ename": "SyntaxError",
     "evalue": "invalid syntax (956376238.py, line 1)",
     "output_type": "error",
     "traceback": [
      "\u001b[0;36m  Cell \u001b[0;32mIn[37], line 1\u001b[0;36m\u001b[0m\n\u001b[0;31m    check_even_odd(10):\u001b[0m\n\u001b[0m                      ^\u001b[0m\n\u001b[0;31mSyntaxError\u001b[0m\u001b[0;31m:\u001b[0m invalid syntax\n"
     ]
    }
   ],
   "source": [
    "check_even_odd(10):\n",
    "    if 10 % 2 == 0:\n",
    "        print(10, \"is even! ⚖️\")\n",
    "    else:\n",
    "        print(10, \"is odd! 🎯\")"
   ]
  },
  {
   "cell_type": "code",
   "execution_count": 35,
   "id": "fc294a94-6803-4df0-b68f-df879979aa26",
   "metadata": {},
   "outputs": [
    {
     "name": "stdout",
     "output_type": "stream",
     "text": [
      "1\n",
      "True\n"
     ]
    }
   ],
   "source": [
    "a=7\n",
    "b=2\n",
    "print(a % b)\n",
    "\n",
    "print(a % b == 1 and a > b)"
   ]
  },
  {
   "cell_type": "code",
   "execution_count": null,
   "id": "09da23ae-90e1-41b5-97f3-5cb3ce07eb81",
   "metadata": {},
   "outputs": [],
   "source": []
  }
 ],
 "metadata": {
  "kernelspec": {
   "display_name": "Python 3 (ipykernel)",
   "language": "python",
   "name": "python3"
  },
  "language_info": {
   "codemirror_mode": {
    "name": "ipython",
    "version": 3
   },
   "file_extension": ".py",
   "mimetype": "text/x-python",
   "name": "python",
   "nbconvert_exporter": "python",
   "pygments_lexer": "ipython3",
   "version": "3.12.5"
  }
 },
 "nbformat": 4,
 "nbformat_minor": 5
}
