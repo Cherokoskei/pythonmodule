{
 "cells": [
  {
   "cell_type": "code",
   "execution_count": 1,
   "id": "719638f5-56d5-479b-9f22-3205da38bafc",
   "metadata": {},
   "outputs": [
    {
     "name": "stdin",
     "output_type": "stream",
     "text": [
      "student's marks between (0-100): 50\n"
     ]
    },
    {
     "name": "stdout",
     "output_type": "stream",
     "text": [
      "Grade: Pass 👍\n"
     ]
    }
   ],
   "source": [
    "marks = int(input(\"student's marks between (0-100):\"))\n",
    "\n",
    "if marks > 70:\n",
    "    print(\"Grade: Distinction 🏆\")\n",
    "elif marks >= 60:\n",
    "    print(\"Grade: Credit 🎖️\")\n",
    "elif marks >= 50:\n",
    "    print(\"Grade: Pass 👍\")\n",
    "else:\n",
    "    print(\"Grade: Fail ❌\")\n",
    "\n"
   ]
  }
 ],
 "metadata": {
  "kernelspec": {
   "display_name": "Python 3 (ipykernel)",
   "language": "python",
   "name": "python3"
  },
  "language_info": {
   "codemirror_mode": {
    "name": "ipython",
    "version": 3
   },
   "file_extension": ".py",
   "mimetype": "text/x-python",
   "name": "python",
   "nbconvert_exporter": "python",
   "pygments_lexer": "ipython3",
   "version": "3.12.3"
  }
 },
 "nbformat": 4,
 "nbformat_minor": 5
}
