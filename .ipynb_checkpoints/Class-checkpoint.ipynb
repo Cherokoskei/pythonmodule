{
 "cells": [
  {
   "cell_type": "code",
   "execution_count": 4,
   "id": "1c6ca9ca-d40f-4271-8bba-2994e4af51eb",
   "metadata": {},
   "outputs": [
    {
     "name": "stdout",
     "output_type": "stream",
     "text": [
      "25\n"
     ]
    }
   ],
   "source": [
    "class person:\n",
    "     def __init__(self, name, age,height):\n",
    "          self.name = name\n",
    "          self.age = age\n",
    "          self.height = height\n",
    "personalDetails = person(\"john\",25,51.6)\n",
    "print(personalDetails.age)\n",
    "     \n",
    "     "
   ]
  },
  {
   "cell_type": "code",
   "execution_count": 5,
   "id": "855520ec-092e-421e-9042-ca515f905097",
   "metadata": {},
   "outputs": [
    {
     "name": "stdout",
     "output_type": "stream",
     "text": [
      "red\n",
      "The car is driving 🚗\n"
     ]
    }
   ],
   "source": [
    "# Defining a class\n",
    "class Car:\n",
    "    color = \"red\"  # Attribute\n",
    "\n",
    "    # Method\n",
    "    def drive(self):\n",
    "        print(\"The car is driving 🚗\")\n",
    "\n",
    "# Creating an object\n",
    "my_car = Car()\n",
    "print(my_car.color)\n",
    "my_car.drive()"
   ]
  },
  {
   "cell_type": "code",
   "execution_count": 6,
   "id": "c85b4536-cf08-4749-9bdd-7d9fb0c3e5a4",
   "metadata": {},
   "outputs": [
    {
     "name": "stdout",
     "output_type": "stream",
     "text": [
      "blue\n",
      "SUV\n"
     ]
    }
   ],
   "source": [
    "class Car:\n",
    "    def __init__(self, color, model):\n",
    "        self.color = color    # Instance variable\n",
    "        self.model = model    # Instance variable\n",
    "\n",
    "# Creating objects with unique attributes\n",
    "car1 = Car(\"blue\", \"Sedan\")\n",
    "car2 = Car(\"red\", \"SUV\")\n",
    "\n",
    "print(car1.color)  # Output: blue\n",
    "print(car2.model)  # Output: SUV"
   ]
  },
  {
   "cell_type": "code",
   "execution_count": 7,
   "id": "3668edad-be14-4a44-b747-be20ec381206",
   "metadata": {},
   "outputs": [
    {
     "name": "stdout",
     "output_type": "stream",
     "text": [
      "Woof!\n",
      "Meow!\n"
     ]
    }
   ],
   "source": [
    "class Dog:\n",
    "    def speak(self):\n",
    "        return \"Woof!\"\n",
    "\n",
    "class Cat:\n",
    "    def speak(self):\n",
    "        return \"Meow!\"\n",
    "\n",
    "# Polymorphism in action\n",
    "for animal in [Dog(), Cat()]:\n",
    "    print(animal.speak())"
   ]
  },
  {
   "cell_type": "code",
   "execution_count": 8,
   "id": "e020a587-e81e-4582-9a18-8a91635bdcb8",
   "metadata": {},
   "outputs": [
    {
     "name": "stdout",
     "output_type": "stream",
     "text": [
      "One chocolate taken!\n"
     ]
    }
   ],
   "source": [
    "class SecretStash:\n",
    "    def __init__(self):\n",
    "        self.__chocolates = 10  # Private attribute\n",
    "\n",
    "    def take_chocolate(self):\n",
    "        if self.__chocolates > 0:\n",
    "            self.__chocolates -= 1\n",
    "            print(\"One chocolate taken!\")\n",
    "        else:\n",
    "            print(\"No chocolates left 😢\")\n",
    "\n",
    "stash = SecretStash()\n",
    "stash.take_chocolate()"
   ]
  },
  {
   "cell_type": "code",
   "execution_count": null,
   "id": "c74d92a0-2e84-4c77-83fa-084625b6a411",
   "metadata": {},
   "outputs": [],
   "source": []
  }
 ],
 "metadata": {
  "kernelspec": {
   "display_name": "Python 3 (ipykernel)",
   "language": "python",
   "name": "python3"
  },
  "language_info": {
   "codemirror_mode": {
    "name": "ipython",
    "version": 3
   },
   "file_extension": ".py",
   "mimetype": "text/x-python",
   "name": "python",
   "nbconvert_exporter": "python",
   "pygments_lexer": "ipython3",
   "version": "3.12.5"
  }
 },
 "nbformat": 4,
 "nbformat_minor": 5
}
