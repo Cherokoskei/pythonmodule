{
 "cells": [
  {
   "cell_type": "code",
   "execution_count": 1,
   "id": "94a5f8c1-b189-4dab-b744-5fe89b12ac11",
   "metadata": {},
   "outputs": [
    {
     "ename": "NameError",
     "evalue": "name 'plt' is not defined",
     "output_type": "error",
     "traceback": [
      "\u001b[0;31m---------------------------------------------------------------------------\u001b[0m",
      "\u001b[0;31mNameError\u001b[0m                                 Traceback (most recent call last)",
      "Cell \u001b[0;32mIn[1], line 2\u001b[0m\n\u001b[1;32m      1\u001b[0m \u001b[38;5;66;03m# 1. Line Chart: Simulating a trend (not time series, but index vs. petal length)\u001b[39;00m\n\u001b[0;32m----> 2\u001b[0m \u001b[43mplt\u001b[49m\u001b[38;5;241m.\u001b[39mfigure(figsize\u001b[38;5;241m=\u001b[39m(\u001b[38;5;241m8\u001b[39m, \u001b[38;5;241m4\u001b[39m))\n\u001b[1;32m      3\u001b[0m plt\u001b[38;5;241m.\u001b[39mplot(df\u001b[38;5;241m.\u001b[39mindex, df[\u001b[38;5;124m'\u001b[39m\u001b[38;5;124mpetal length (cm)\u001b[39m\u001b[38;5;124m'\u001b[39m], label\u001b[38;5;241m=\u001b[39m\u001b[38;5;124m'\u001b[39m\u001b[38;5;124mPetal Length\u001b[39m\u001b[38;5;124m'\u001b[39m)\n\u001b[1;32m      4\u001b[0m plt\u001b[38;5;241m.\u001b[39mtitle(\u001b[38;5;124m'\u001b[39m\u001b[38;5;124mPetal Length over Sample Index\u001b[39m\u001b[38;5;124m'\u001b[39m)\n",
      "\u001b[0;31mNameError\u001b[0m: name 'plt' is not defined"
     ]
    }
   ],
   "source": [
    "# 1. Line Chart: Simulating a trend (not time series, but index vs. petal length)\n",
    "plt.figure(figsize=(8, 4))\n",
    "plt.plot(df.index, df['petal length (cm)'], label='Petal Length')\n",
    "plt.title('Petal Length over Sample Index')\n",
    "plt.xlabel('Sample Index')\n",
    "plt.ylabel('Petal Length (cm)')\n",
    "plt.legend()\n",
    "plt.savefig('line_chart.png')  # Save the line chart\n",
    "plt.show()\n",
    "\n",
    "# 2. Bar Chart: Average petal length per species\n",
    "plt.figure(figsize=(6, 4))\n",
    "sns.barplot(x='species', y='petal length (cm)', data=df, ci=None)\n",
    "plt.title('Average Petal Length per Species')\n",
    "plt.xlabel('Species')\n",
    "plt.ylabel('Petal Length (cm)')\n",
    "plt.savefig('bar_chart.png')  # Save the bar chart\n",
    "plt.show()\n",
    "\n",
    "# 3. Histogram: Distribution of sepal width\n",
    "plt.figure(figsize=(6, 4))\n",
    "plt.hist(df['sepal width (cm)'], bins=10, color='skyblue', edgecolor='black')\n",
    "plt.title('Distribution of Sepal Width')\n",
    "plt.xlabel('Sepal Width (cm)')\n",
    "plt.ylabel('Frequency')\n",
    "plt.savefig('histogram.png')  # Save the histogram\n",
    "plt.show()\n",
    "\n",
    "# 4. Scatter Plot: Sepal Length vs Petal Length\n",
    "plt.figure(figsize=(6, 4))\n",
    "sns.scatterplot(x='sepal length (cm)', y='petal length (cm)', hue='species', data=df)\n",
    "plt.title('Sepal Length vs Petal Length')\n",
    "plt.xlabel('Sepal Length (cm)')\n",
    "plt.ylabel('Petal Length (cm)')\n",
    "plt.legend()\n",
    "plt.savefig('scatter_plot.png')  # Save the scatter plot\n",
    "plt.show()"
   ]
  },
  {
   "cell_type": "code",
   "execution_count": null,
   "id": "034ae99c-feee-4534-80e2-03e3ddd5e796",
   "metadata": {},
   "outputs": [],
   "source": []
  }
 ],
 "metadata": {
  "kernelspec": {
   "display_name": "Python 3 (ipykernel)",
   "language": "python",
   "name": "python3"
  },
  "language_info": {
   "codemirror_mode": {
    "name": "ipython",
    "version": 3
   },
   "file_extension": ".py",
   "mimetype": "text/x-python",
   "name": "python",
   "nbconvert_exporter": "python",
   "pygments_lexer": "ipython3",
   "version": "3.12.5"
  }
 },
 "nbformat": 4,
 "nbformat_minor": 5
}
